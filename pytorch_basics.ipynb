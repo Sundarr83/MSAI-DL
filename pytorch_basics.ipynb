{
  "nbformat": 4,
  "nbformat_minor": 0,
  "metadata": {
    "colab": {
      "provenance": []
    },
    "kernelspec": {
      "name": "python3",
      "display_name": "Python 3"
    },
    "language_info": {
      "name": "python"
    }
  },
  "cells": [
    {
      "cell_type": "code",
      "execution_count": 1,
      "metadata": {
        "colab": {
          "base_uri": "https://localhost:8080/"
        },
        "id": "BEvuP1DCzwQj",
        "outputId": "6aae87e5-0d37-46e9-90a1-d0a4bb82671a"
      },
      "outputs": [
        {
          "output_type": "stream",
          "name": "stdout",
          "text": [
            "2.4.0+cu121\n"
          ]
        }
      ],
      "source": [
        "import time\n",
        "import torch\n",
        "\n",
        "print(torch.__version__)"
      ]
    },
    {
      "cell_type": "code",
      "source": [
        "x = [1, 2, 3, 4, 5]\n",
        "x = torch.as_tensor(x)\n",
        "print(x)\n",
        "print(f\"size = {x.size()}\")\n",
        "print(f\"shape = {x.shape}\")\n",
        "print(f\"dtype = {x.dtype}\")\n",
        "print(f\"dimension = {x.dim()}\")\n",
        "print(f\"device = {x.device}\")"
      ],
      "metadata": {
        "colab": {
          "base_uri": "https://localhost:8080/"
        },
        "id": "w_sdRTTO0FVM",
        "outputId": "2c46042c-3a40-428c-982b-f0d787c03527"
      },
      "execution_count": 8,
      "outputs": [
        {
          "output_type": "stream",
          "name": "stdout",
          "text": [
            "tensor([1, 2, 3, 4, 5])\n",
            "size = torch.Size([5])\n",
            "shape = torch.Size([5])\n",
            "dtype = torch.int64\n",
            "dimension = 1\n",
            "device = cpu\n"
          ]
        }
      ]
    },
    {
      "cell_type": "code",
      "source": [
        "x = torch.zeros(3, 4)\n",
        "print(x)"
      ],
      "metadata": {
        "colab": {
          "base_uri": "https://localhost:8080/"
        },
        "id": "nZnadH_67pvO",
        "outputId": "038166c0-026e-479b-8353-51c7ead3b7e5"
      },
      "execution_count": 9,
      "outputs": [
        {
          "output_type": "stream",
          "name": "stdout",
          "text": [
            "tensor([[0., 0., 0., 0.],\n",
            "        [0., 0., 0., 0.],\n",
            "        [0., 0., 0., 0.]])\n"
          ]
        }
      ]
    },
    {
      "cell_type": "code",
      "source": [
        "x = torch.ones(3, 4)\n",
        "print(x)"
      ],
      "metadata": {
        "colab": {
          "base_uri": "https://localhost:8080/"
        },
        "id": "3D-InHOM77P0",
        "outputId": "da69638d-2fbc-47ca-e748-75ed9a8628b5"
      },
      "execution_count": 10,
      "outputs": [
        {
          "output_type": "stream",
          "name": "stdout",
          "text": [
            "tensor([[1., 1., 1., 1.],\n",
            "        [1., 1., 1., 1.],\n",
            "        [1., 1., 1., 1.]])\n"
          ]
        }
      ]
    },
    {
      "cell_type": "code",
      "source": [
        "x = torch.full((3, 4), fill_value=2)\n",
        "print(x)"
      ],
      "metadata": {
        "colab": {
          "base_uri": "https://localhost:8080/"
        },
        "id": "NxtCLR-d8AaE",
        "outputId": "c813c13a-ff8c-4fcb-b3b2-dc40797df15e"
      },
      "execution_count": 11,
      "outputs": [
        {
          "output_type": "stream",
          "name": "stdout",
          "text": [
            "tensor([[2, 2, 2, 2],\n",
            "        [2, 2, 2, 2],\n",
            "        [2, 2, 2, 2]])\n"
          ]
        }
      ]
    },
    {
      "cell_type": "code",
      "source": [
        "x = torch.randn(3, 4)\n",
        "print(x)"
      ],
      "metadata": {
        "colab": {
          "base_uri": "https://localhost:8080/"
        },
        "id": "T5o-b8mD8Gzh",
        "outputId": "7138bd5f-e883-4c7c-d0cf-22ddf1f0301a"
      },
      "execution_count": 12,
      "outputs": [
        {
          "output_type": "stream",
          "name": "stdout",
          "text": [
            "tensor([[ 0.4354, -0.6730, -0.3934,  1.0608],\n",
            "        [ 2.3621,  0.7313,  0.6525, -0.1140],\n",
            "        [-0.1390, -0.1019, -1.6127, -0.6168]])\n"
          ]
        }
      ]
    },
    {
      "cell_type": "code",
      "source": [
        "x = torch.randn(3, 4)\n",
        "y = torch.zeros_like(x)\n",
        "print(y)"
      ],
      "metadata": {
        "colab": {
          "base_uri": "https://localhost:8080/"
        },
        "id": "XmS3nWzg8Lqd",
        "outputId": "ca962636-f69f-4872-f6a7-3e1e3ee5ae29"
      },
      "execution_count": 13,
      "outputs": [
        {
          "output_type": "stream",
          "name": "stdout",
          "text": [
            "tensor([[0., 0., 0., 0.],\n",
            "        [0., 0., 0., 0.],\n",
            "        [0., 0., 0., 0.]])\n"
          ]
        }
      ]
    },
    {
      "cell_type": "code",
      "source": [
        "x = torch.randn(3, 4)\n",
        "y = torch.ones_like(x)\n",
        "print(y)"
      ],
      "metadata": {
        "colab": {
          "base_uri": "https://localhost:8080/"
        },
        "id": "28jNYsbv8O4Y",
        "outputId": "32fa26fc-7ea2-4d7f-be06-f4a8a7e0d010"
      },
      "execution_count": 14,
      "outputs": [
        {
          "output_type": "stream",
          "name": "stdout",
          "text": [
            "tensor([[1., 1., 1., 1.],\n",
            "        [1., 1., 1., 1.],\n",
            "        [1., 1., 1., 1.]])\n"
          ]
        }
      ]
    },
    {
      "cell_type": "code",
      "source": [
        "x = torch.randn(3, 4)\n",
        "y = torch.full_like(x, 5)\n",
        "print(y)"
      ],
      "metadata": {
        "colab": {
          "base_uri": "https://localhost:8080/"
        },
        "id": "5AFVyU9K8SPP",
        "outputId": "a2654787-ac8e-44cd-fe7e-e38a6e325dba"
      },
      "execution_count": 15,
      "outputs": [
        {
          "output_type": "stream",
          "name": "stdout",
          "text": [
            "tensor([[5., 5., 5., 5.],\n",
            "        [5., 5., 5., 5.],\n",
            "        [5., 5., 5., 5.]])\n"
          ]
        }
      ]
    },
    {
      "cell_type": "code",
      "source": [
        "x = torch.zeros(3, 4, dtype=torch.bool)\n",
        "y = x.new_tensor([1, 2, 3, 4])\n",
        "print(y)"
      ],
      "metadata": {
        "colab": {
          "base_uri": "https://localhost:8080/"
        },
        "id": "5A0X87Ep8fHz",
        "outputId": "3d645548-b9a8-44b5-e220-73dd631721e2"
      },
      "execution_count": 16,
      "outputs": [
        {
          "output_type": "stream",
          "name": "stdout",
          "text": [
            "tensor([True, True, True, True])\n"
          ]
        }
      ]
    },
    {
      "cell_type": "code",
      "source": [
        "x = torch.ones(5, 1)\n",
        "y = torch.ones(1, 5)\n",
        "z = x + y\n",
        "print(z, z.shape)"
      ],
      "metadata": {
        "colab": {
          "base_uri": "https://localhost:8080/"
        },
        "id": "2dsgDOEX8z-H",
        "outputId": "5bbc50aa-fa7b-4404-fbdf-6b6aa31fa29d"
      },
      "execution_count": 17,
      "outputs": [
        {
          "output_type": "stream",
          "name": "stdout",
          "text": [
            "tensor([[2., 2., 2., 2., 2.],\n",
            "        [2., 2., 2., 2., 2.],\n",
            "        [2., 2., 2., 2., 2.],\n",
            "        [2., 2., 2., 2., 2.],\n",
            "        [2., 2., 2., 2., 2.]]) torch.Size([5, 5])\n"
          ]
        }
      ]
    },
    {
      "cell_type": "code",
      "source": [
        "x = torch.ones(1, 1, 1, 1, 1)\n",
        "y = torch.ones(2, 1, 3, 1, 2)\n",
        "z = x + y\n",
        "print(z, z.shape)"
      ],
      "metadata": {
        "colab": {
          "base_uri": "https://localhost:8080/"
        },
        "id": "5-D8tPDi9Ypf",
        "outputId": "ddac1af8-3180-4068-e700-682857c65889"
      },
      "execution_count": 18,
      "outputs": [
        {
          "output_type": "stream",
          "name": "stdout",
          "text": [
            "tensor([[[[[2., 2.]],\n",
            "\n",
            "          [[2., 2.]],\n",
            "\n",
            "          [[2., 2.]]]],\n",
            "\n",
            "\n",
            "\n",
            "        [[[[2., 2.]],\n",
            "\n",
            "          [[2., 2.]],\n",
            "\n",
            "          [[2., 2.]]]]]) torch.Size([2, 1, 3, 1, 2])\n"
          ]
        }
      ]
    },
    {
      "cell_type": "code",
      "source": [
        "x = torch.ones(3, 4, 5)\n",
        "print(x.mean())\n",
        "print(x.mean(-1))"
      ],
      "metadata": {
        "colab": {
          "base_uri": "https://localhost:8080/"
        },
        "id": "a0O8kRGt9lTw",
        "outputId": "ccd6bdd8-5651-409c-cfdf-b7d77edebd9e"
      },
      "execution_count": 19,
      "outputs": [
        {
          "output_type": "stream",
          "name": "stdout",
          "text": [
            "tensor(1.)\n",
            "tensor([[1., 1., 1., 1.],\n",
            "        [1., 1., 1., 1.],\n",
            "        [1., 1., 1., 1.]])\n"
          ]
        }
      ]
    },
    {
      "cell_type": "code",
      "source": [
        "x = torch.ones(3, 4, 5)\n",
        "print(x.sum(dim=0))\n",
        "print(x.sum(dim=(1, 2)))"
      ],
      "metadata": {
        "colab": {
          "base_uri": "https://localhost:8080/"
        },
        "id": "D29LWLpH-gOH",
        "outputId": "a686cda7-35a2-4be1-e1ee-f6a34ce68227"
      },
      "execution_count": 20,
      "outputs": [
        {
          "output_type": "stream",
          "name": "stdout",
          "text": [
            "tensor([[3., 3., 3., 3., 3.],\n",
            "        [3., 3., 3., 3., 3.],\n",
            "        [3., 3., 3., 3., 3.],\n",
            "        [3., 3., 3., 3., 3.]])\n",
            "tensor([20., 20., 20.])\n"
          ]
        }
      ]
    },
    {
      "cell_type": "code",
      "source": [
        "x = torch.ones(3, 4, 5)\n",
        "y = x.sum(dim=(1, 2))\n",
        "z = x.sum(dim=(1, 2), keepdim=True)\n",
        "print(y, y.shape)\n",
        "print(z, z.shape)"
      ],
      "metadata": {
        "colab": {
          "base_uri": "https://localhost:8080/"
        },
        "id": "iG9FyOQ-AFzK",
        "outputId": "81e27f8f-cfc0-4608-8e48-3173863b3c2e"
      },
      "execution_count": 21,
      "outputs": [
        {
          "output_type": "stream",
          "name": "stdout",
          "text": [
            "tensor([20., 20., 20.]) torch.Size([3])\n",
            "tensor([[[20.]],\n",
            "\n",
            "        [[20.]],\n",
            "\n",
            "        [[20.]]]) torch.Size([3, 1, 1])\n"
          ]
        }
      ]
    },
    {
      "cell_type": "code",
      "source": [
        "x = torch.randn(5, 5)\n",
        "print(x.to(torch.long))"
      ],
      "metadata": {
        "colab": {
          "base_uri": "https://localhost:8080/"
        },
        "id": "2V4tTHf7AnfU",
        "outputId": "bb7819ec-a74c-4a08-eb68-aec52f1b0b49"
      },
      "execution_count": 22,
      "outputs": [
        {
          "output_type": "stream",
          "name": "stdout",
          "text": [
            "tensor([[-1,  0,  0,  0, -2],\n",
            "        [ 0,  0,  1,  0,  0],\n",
            "        [ 0,  0, -1,  1, -1],\n",
            "        [ 1,  0,  0,  1,  1],\n",
            "        [ 0,  0,  0,  0,  0]])\n"
          ]
        }
      ]
    },
    {
      "cell_type": "code",
      "source": [
        "x = torch.randn(2, 3, 2)\n",
        "y = x.view(6, 2)\n",
        "z = x.view(-1, 2)\n",
        "print(y, y.shape)\n",
        "print(z, z.shape)"
      ],
      "metadata": {
        "colab": {
          "base_uri": "https://localhost:8080/"
        },
        "id": "wALS1bTWAw2R",
        "outputId": "6b0ff69d-26c8-4bdd-93f1-57ac685ee69a"
      },
      "execution_count": 23,
      "outputs": [
        {
          "output_type": "stream",
          "name": "stdout",
          "text": [
            "tensor([[-0.7375,  1.4060],\n",
            "        [ 0.3494,  0.3088],\n",
            "        [-0.7860, -1.1487],\n",
            "        [-1.2708,  1.4033],\n",
            "        [-0.3149, -1.0346],\n",
            "        [ 1.6459,  0.1498]]) torch.Size([6, 2])\n",
            "tensor([[-0.7375,  1.4060],\n",
            "        [ 0.3494,  0.3088],\n",
            "        [-0.7860, -1.1487],\n",
            "        [-1.2708,  1.4033],\n",
            "        [-0.3149, -1.0346],\n",
            "        [ 1.6459,  0.1498]]) torch.Size([6, 2])\n"
          ]
        }
      ]
    },
    {
      "cell_type": "code",
      "source": [
        "x = torch.randn(2, 3, 2)\n",
        "y = x.permute(1, 2, 0)\n",
        "print(y, y.shape)"
      ],
      "metadata": {
        "colab": {
          "base_uri": "https://localhost:8080/"
        },
        "id": "eCwtw4b3BkM6",
        "outputId": "a76dc6a1-d85d-4dc2-c3c1-05871362ef81"
      },
      "execution_count": 24,
      "outputs": [
        {
          "output_type": "stream",
          "name": "stdout",
          "text": [
            "tensor([[[-0.9200, -0.5458],\n",
            "         [ 0.2720,  1.1355]],\n",
            "\n",
            "        [[-1.0244, -0.1501],\n",
            "         [ 1.2076,  0.3366]],\n",
            "\n",
            "        [[-0.7689, -0.9289],\n",
            "         [ 0.9748, -1.8684]]]) torch.Size([3, 2, 2])\n"
          ]
        }
      ]
    },
    {
      "cell_type": "code",
      "source": [
        "x = torch.ones(2, 3)\n",
        "y = torch.ones(2, 3)\n",
        "z = torch.cat([x, y], dim=0)\n",
        "print(z, z.shape)"
      ],
      "metadata": {
        "colab": {
          "base_uri": "https://localhost:8080/"
        },
        "id": "wTpODZzFCIQP",
        "outputId": "b5ee4ade-37c5-43cf-e3e5-95b6efc6be34"
      },
      "execution_count": 25,
      "outputs": [
        {
          "output_type": "stream",
          "name": "stdout",
          "text": [
            "tensor([[1., 1., 1.],\n",
            "        [1., 1., 1.],\n",
            "        [1., 1., 1.],\n",
            "        [1., 1., 1.]]) torch.Size([4, 3])\n"
          ]
        }
      ]
    },
    {
      "cell_type": "code",
      "source": [
        "x = torch.ones(2, 3)\n",
        "y = torch.ones(2, 3)\n",
        "z = torch.stack([x, y], dim=1)\n",
        "print(z, z.shape)"
      ],
      "metadata": {
        "colab": {
          "base_uri": "https://localhost:8080/"
        },
        "id": "_xY_DjooCgP4",
        "outputId": "cf9eeeed-a60e-4a6e-f18b-6876b8a656f4"
      },
      "execution_count": 26,
      "outputs": [
        {
          "output_type": "stream",
          "name": "stdout",
          "text": [
            "tensor([[[1., 1., 1.],\n",
            "         [1., 1., 1.]],\n",
            "\n",
            "        [[1., 1., 1.],\n",
            "         [1., 1., 1.]]]) torch.Size([2, 2, 3])\n"
          ]
        }
      ]
    },
    {
      "cell_type": "code",
      "source": [
        "def add_two_lists(x, y):\n",
        "    z = []\n",
        "    for i, j in zip(x, y):\n",
        "        z.append(i + j)\n",
        "    return z\n",
        "\n",
        "\n",
        "x = torch.ones(5000)\n",
        "y = torch.ones(5000)\n",
        "t1 = time.time()\n",
        "z = add_two_lists(x, y)\n",
        "print(f\"{time.time() - t1:.4f} sec.\")"
      ],
      "metadata": {
        "colab": {
          "base_uri": "https://localhost:8080/"
        },
        "id": "PgTvOQy-DSHA",
        "outputId": "799672a1-ee86-4a4f-e42b-7faf23804a2c"
      },
      "execution_count": 27,
      "outputs": [
        {
          "output_type": "stream",
          "name": "stdout",
          "text": [
            "0.0482 sec.\n"
          ]
        }
      ]
    },
    {
      "cell_type": "code",
      "source": [
        "def add_two_lists(x, y):\n",
        "    return x + y\n",
        "\n",
        "\n",
        "x = torch.ones(5000)\n",
        "y = torch.ones(5000)\n",
        "t1 = time.time()\n",
        "z = add_two_lists(x, y)\n",
        "print(f\"{time.time() - t1:.4f} sec.\")"
      ],
      "metadata": {
        "colab": {
          "base_uri": "https://localhost:8080/"
        },
        "id": "yXApRraXDrwB",
        "outputId": "10b41113-125b-4055-856e-84f6457903fa"
      },
      "execution_count": 28,
      "outputs": [
        {
          "output_type": "stream",
          "name": "stdout",
          "text": [
            "0.0002 sec.\n"
          ]
        }
      ]
    },
    {
      "cell_type": "code",
      "source": [
        "x = torch.randn(3, 3)\n",
        "y = torch.zeros(5, 2, dtype=torch.long)\n",
        "print(x.to(torch.float32))\n",
        "print(x.to(torch.bool))\n",
        "print(x.to(y))"
      ],
      "metadata": {
        "colab": {
          "base_uri": "https://localhost:8080/"
        },
        "id": "-XoteDsDD1SS",
        "outputId": "de8bfea7-98d7-4246-e596-a3d696bc6df6"
      },
      "execution_count": 29,
      "outputs": [
        {
          "output_type": "stream",
          "name": "stdout",
          "text": [
            "tensor([[ 0.7302,  1.0639, -0.6764],\n",
            "        [ 1.9761,  0.9864, -0.2111],\n",
            "        [ 0.9022,  0.3866,  1.0079]])\n",
            "tensor([[True, True, True],\n",
            "        [True, True, True],\n",
            "        [True, True, True]])\n",
            "tensor([[0, 1, 0],\n",
            "        [1, 0, 0],\n",
            "        [0, 0, 1]])\n"
          ]
        }
      ]
    },
    {
      "cell_type": "code",
      "source": [
        "x = torch.arange(8)\n",
        "print(x)\n",
        "y = torch.arange(2, 8)\n",
        "print(y)\n",
        "z = torch.arange(3, 10, step=2)\n",
        "print(z)"
      ],
      "metadata": {
        "colab": {
          "base_uri": "https://localhost:8080/"
        },
        "id": "5KZpvqXbECFh",
        "outputId": "38e57dfa-1aaf-4ccf-b600-8d4f4ff180bd"
      },
      "execution_count": 30,
      "outputs": [
        {
          "output_type": "stream",
          "name": "stdout",
          "text": [
            "tensor([0, 1, 2, 3, 4, 5, 6, 7])\n",
            "tensor([2, 3, 4, 5, 6, 7])\n",
            "tensor([3, 5, 7, 9])\n"
          ]
        }
      ]
    }
  ]
}