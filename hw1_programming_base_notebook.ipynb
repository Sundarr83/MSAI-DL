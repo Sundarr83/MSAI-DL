{
 "cells": [
  {
   "cell_type": "code",
   "execution_count": null,
   "metadata": {
    "id": "9kIqgkMgEXab"
   },
   "outputs": [],
   "source": [
    "import matplotlib.pyplot as plt\n",
    "import numpy as np\n",
    "from sklearn import tree, ensemble\n",
    "from sklearn.model_selection import cross_val_score\n",
    "from sklearn.datasets import load_breast_cancer\n",
    "from sklearn.model_selection import KFold\n",
    "from collections import defaultdict\n",
    "import pprint"
   ]
  },
  {
   "cell_type": "code",
   "execution_count": null,
   "metadata": {
    "id": "LehKy8iWh7tt"
   },
   "outputs": [],
   "source": [
    "# Assignment Constants\n",
    "RANDOM_STATE = 10\n",
    "FIGSIZE = (12,8)\n",
    "#### Use the following line before plt.plot(....) to increase the plot size ####\n",
    "# plt.figure(figsize=FIGSIZE)"
   ]
  },
  {
   "cell_type": "markdown",
   "metadata": {
    "id": "sOzKw8qBh7tt"
   },
   "source": [
    "## Question 1 \n",
    "Use the breast cancer data set from Homework 0 to create a training set. Recall that the\n",
    "label is 0 if the patient’s data indicates a malignant cancer and 1 otherwise. Compute the\n",
    "base rate of malignant cancer occurrence over the entire data set. In other words, what would\n",
    "be your best guess for the probability of malignant cancer of a single example using only the\n",
    "labels in the training set? This question is very simple, so try not to overthink it."
   ]
  },
  {
   "cell_type": "code",
   "execution_count": null,
   "metadata": {
    "id": "4XhEGZi_h7tv",
    "scrolled": true
   },
   "outputs": [],
   "source": []
  },
  {
   "cell_type": "markdown",
   "metadata": {
    "id": "mKWeUAVHh7tv"
   },
   "source": [
    "## 2\n",
    "The goal is to build a decision tree that, based on the other features in the set, predicts\n",
    "whether or not a patient has malignant cancer. So this is a classification problem. Using\n",
    "`tree.DecisionTreeClassifier` and other functions in the scikit-learn library, one can build\n",
    "a decision tree and calculate both its training accuracy when fitted to the entire data set as\n",
    "well as its accuracy using 10-fold cross validation (which gives a better idea of true accuracy).\n",
    "In this question you will need to complete two sub-components:\n",
    "### (a) \n",
    "(a) Make a plot visualizing the performance of a `tree.DecisionTreeClassifier` as you\n",
    "search for an optimal `max_depth` parameter. Vary the depth of your decision tree using\n",
    "max depth = 1,2,. . . ,10 and record the results from the following evaluation procedures\n",
    "for each setting:\n",
    "* The accuracy when training and testing on the full dataset.\n",
    "* 10-fold cross-validated accuracy.\n",
    "\n",
    "Plot the results of both evaluation procedures on the same plot with evaluation scores on\n",
    "the y-axis and max depth values on the x-axis. Use 10 as your random seed/state for the\n",
    "decision tree and the cross-validation. Use a legend to label both evaluation procedures.\n"
   ]
  },
  {
   "cell_type": "code",
   "execution_count": null,
   "metadata": {
    "id": "6CBo0UxNh7tv"
   },
   "outputs": [],
   "source": []
  },
  {
   "cell_type": "markdown",
   "metadata": {
    "id": "Sx9GOh0th7tv"
   },
   "source": [
    "### (b) \n",
    "Answer the questions below based on the results of 2a. Write your answers in the\n",
    "corresponding field in the markdown cell that is present in the HW1 template notebook.\n",
    "Do this by double clicking the markdown cell and writing your answer directly in the\n",
    "cell. Pressing enter will re-render the markdown.\n",
    "\n",
    "#### (i.)\n",
    "What setting of `max_depth` gave the best accuracy w.r.t. the **full-dataset** accuracy?\n",
    "If more than one setting equaled the best accuracy, list each of the best settings.\n",
    "\n",
    "**Student answer here:** \n",
    "\n",
    "#### (ii.)\n",
    "What setting of `max_depth`  gave the best accuracy w.r.t. the **cross-\n",
    "validated** accuracy? If more than one setting equaled the best accuracy, list each of the best settings.\n",
    "\n",
    "**Student answer here:** \n",
    "\n"
   ]
  },
  {
   "cell_type": "markdown",
   "metadata": {
    "id": "0vKsAO_-h7tw"
   },
   "source": [
    "## 3\\. \n",
    "This question explores random forest classifiers by using scikit-learn’s `ensemble.RandomForestClassifier`.\n",
    "You will make two plots and answer questions about them.\n",
    "\n",
    "### (a) \n",
    "For the first plot, use a `ensemble.RandomForestClassifier` and the best depth you\n",
    "found 2(b)ii as `max_depth`. We will now find the optimal setting of a second parameter,\n",
    "n estimators. Vary the number of trees in the forest via the parameter `n_estimators`\n",
    "and plot its 10-fold cross-validated accuracy (use `n_estimators` = 1, 2, . . . , 20). Again,\n",
    "use 10 as your random seed for your classifier and cross-validation."
   ]
  },
  {
   "cell_type": "code",
   "execution_count": null,
   "metadata": {
    "id": "tDwWUsgEh7tw"
   },
   "outputs": [],
   "source": []
  },
  {
   "cell_type": "markdown",
   "metadata": {
    "id": "vJWRlyfNh7tw"
   },
   "source": [
    "### (b) \n",
    "Do you see an improvement using random forests versus using a single tree? (Note: use\n",
    "the `n_estimators`=1 result as the result for a single tree.)\n",
    "\n",
    "**Student answer here:** \n",
    "\n",
    "### (c) \n",
    "What setting of `n_estimators` gave the best accuracy w.r.t. the cross-validated ac-\n",
    "curacy?\n",
    "\n",
    "**Student answer here:** \n",
    "\n",
    "### (d) \n",
    "For the second plot, again use a `ensemble.RandomForestClassifier`, but this time\n",
    "you will fix the `n_estimators` parameter and again attempt to find the optimal setting\n",
    "of a `max_depth`. Use your answer to 3c as the setting for `n_estimators` and follow the\n",
    "procedure from 2a to find the best setting for max depth. This time, only plot the results\n",
    "from cross-validation and not the full set, but the plot should be the same structure\n",
    "as in 2a otherwise (use `max_depth` = 1,2,. . . ,10). Again, use 10 as your random seed."
   ]
  },
  {
   "cell_type": "code",
   "execution_count": null,
   "metadata": {
    "id": "D-eI83pxh7tw"
   },
   "outputs": [],
   "source": []
  },
  {
   "cell_type": "markdown",
   "metadata": {
    "id": "FZCOIqxph7tx"
   },
   "source": [
    "### (e) \n",
    "In the plot in 3d, is the optimal setting of `max_depth` the same as in 2(b)ii? If not, what\n",
    "is the new optimal setting of `max_depth`?\n",
    "\n",
    "**Student answer here:** \n",
    "\n",
    "## 4\\. \n",
    "For this last question, we will explore the dependability of our estimates. \n",
    "### (a) \n",
    "Make a plot using the following procedure:\n",
    "#### i. \n",
    "Using random state values from 0, 1, · · · , 99 calculate the 10-fold cross-validation\n",
    "accuracy of different `tree.DecisionTreeClassifiers` with max depth settings from\n",
    "1, 2, · · · , 10.\n",
    "As before, you should use the same random state value for your classifier and cross-validation.\n",
    "#### ii. \n",
    "Then record the best max depth settings for each random state. Be sure to check whether multiple settings\n",
    "achieve the best accuracy.\n",
    "\n",
    "\n",
    "Plot the counts for the best max depth settings as a bar chart with the max depth settings on the x-axis and the 'best parameter counts' on the y-axis (number of times that parameter was selected as the best max depth setting).\n",
    "\n",
    "*Note*: this calculation might take some time. For debugging, try a smaller range of\n",
    "random states."
   ]
  },
  {
   "cell_type": "code",
   "execution_count": null,
   "metadata": {
    "id": "D-Ira43Bh7tx"
   },
   "outputs": [],
   "source": []
  },
  {
   "cell_type": "markdown",
   "metadata": {
    "id": "UJvUvKu7h7tx"
   },
   "source": [
    "### (b) \n",
    "What are the top two most frequent parameter settings?\n",
    "\n",
    "**Student answer here:** "
   ]
  },
  {
   "cell_type": "markdown",
   "metadata": {
    "id": "X-aSoDufh7ty"
   },
   "source": [
    "\n"
   ]
  }
 ],
 "metadata": {
  "colab": {
   "collapsed_sections": [],
   "name": "Copy of hw1p_template.ipynb",
   "provenance": []
  },
  "kernelspec": {
   "display_name": "Python 3",
   "language": "python",
   "name": "python3"
  },
  "language_info": {
   "codemirror_mode": {
    "name": "ipython",
    "version": 3
   },
   "file_extension": ".py",
   "mimetype": "text/x-python",
   "name": "python",
   "nbconvert_exporter": "python",
   "pygments_lexer": "ipython3",
   "version": "3.7.6"
  }
 },
 "nbformat": 4,
 "nbformat_minor": 1
}
